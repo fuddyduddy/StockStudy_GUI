{
 "cells": [
  {
   "cell_type": "code",
   "execution_count": 38,
   "id": "4a73bc97",
   "metadata": {},
   "outputs": [],
   "source": [
    "import requests\n",
    "import datetime\n",
    "import pandas as pd\n",
    "import time\n",
    "import os.path\n",
    "from IPython.display import clear_output\n",
    "## 腾讯的实时股票接口\n",
    "#url = \"http://qt.gtimg.cn/r=0.8409869808238q=s_sh601068\"\n",
    "\n",
    "class SH_Realtime:\n",
    "    def __init__(self):\n",
    "        self.now = datetime.datetime.now()\n",
    "        self.list_hk = ['02068.HK', '00187.HK', '06185.HK', '00317.HK', '00568.HK', '06869.HK', '01533.HK', '00991.HK', '02727.HK', '02039.HK', '01898.HK', '01033.HK', '00588.HK', '01065.HK', '00038.HK', '01787.HK', '01618.HK', '09989.HK', '03993.HK', '01138.HK', '00670.HK', '00323.HK', '00347.HK', '01919.HK', '01186.HK', '02899.HK', '00553.HK', '02880.HK', '00811.HK', '01456.HK', '00956.HK', '01053.HK', '06178.HK', '01171.HK', '00874.HK', '00995.HK', '06116.HK', '01330.HK', '02009.HK', '03369.HK', '00390.HK', '01816.HK', '03988.HK', '02600.HK', '02866.HK', '01800.HK', '00358.HK', '03969.HK', '06837.HK', '00177.HK', '00981.HK', '03759.HK', '06196.HK', '01988.HK', '01071.HK', '03618.HK', '00525.HK', '01375.HK', '02607.HK', '00857.HK', '02016.HK', '00998.HK', '02883.HK', '02359.HK', '01812.HK', '00939.HK', '00548.HK', '01398.HK', '03328.HK', '00728.HK', '00914.HK', '00895.HK', '02611.HK', '06818.HK', '01766.HK', '01288.HK', '06198.HK', '06806.HK', '01157.HK', '00042.HK', '00386.HK', '01635.HK', '01963.HK', '01349.HK', '02628.HK', '03866.HK', '01336.HK', '01528.HK', '01055.HK', '03968.HK', '06690.HK', '01339.HK', '02601.HK', '06881.HK', '01658.HK', '00763.HK', '06099.HK', '03898.HK', '00753.HK', '00719.HK', '01877.HK', '06886.HK', '02318.HK', '01057.HK', '02202.HK', '06030.HK', '01772.HK', '03347.HK', '00564.HK', '00598.HK', '02238.HK', '01513.HK', '01839.HK', '06066.HK', '03908.HK', '00168.HK', '03606.HK', '01072.HK', '02196.HK', '01108.HK', '02333.HK', '00921.HK', '01211.HK', '02208.HK', '06865.HK', '02218.HK', '02338.HK', '00338.HK', '06127.HK', '01088.HK', '00107.HK', '01776.HK', '03958.HK', '06826.HK', '00902.HK', '01385.HK']\n",
    "        self.list_sh = ['sh601068', 'sh600860', 'sh688185', 'sh600685', 'sz002490', 'sh601869', 'sz002910', 'sh601991', 'sh601727', 'sz000039', 'sh601898', 'sh600871', 'sh601588', 'sh600874', 'sh601038', 'sh600547', 'sh601618', 'sz002399', 'sh603993', 'sh600026', 'sh600115', 'sh600808', 'sz000898', 'sh601919', 'sh601186', 'sh601899', 'sh600775', 'sh601880', 'sh601811', 'sh601456', 'sh600956', 'sh601005', 'sh601788', 'sh600188', 'sh600332', 'sh600012', 'sh603157', 'sh601330', 'sh601992', 'sh601326', 'sh601390', 'sz003816', 'sh601988', 'sh601600', 'sh601866', 'sh601800', 'sh600362', 'sh688009', 'sh600837', 'sh600377', 'sh688981', 'sz300759', 'sz002936', 'sh600016', 'sh600027', 'sh601077', 'sh601333', 'sh601375', 'sh601607', 'sh601857', 'sh601916', 'sh601998', 'sh601808', 'sh603259', 'sz000488', 'sh601939', 'sh600548', 'sh601398', 'sh601328', 'sh601728', 'sh600585', 'sz002672', 'sh601211', 'sh601818', 'sh601766', 'sh601288', 'sh601298', 'sz000166', 'sz000157', 'sz000585', 'sh600028', 'sh600635', 'sh601963', 'sh688505', 'sh601628', 'sz002948', 'sh601336', 'sh601828', 'sh600029', 'sh600036', 'sh600690', 'sh601319', 'sh601601', 'sh601881', 'sh601658', 'sz000063', 'sh600999', 'sh688187', 'sh601111', 'sz000756', 'sh688180', 'sh601688', 'sh601318', 'sz002703', 'sz000002', 'sh600030', 'sz002460', 'sz300347', 'sh601717', 'sh601598', 'sh601238', 'sz000513', 'sz301039', 'sh601066', 'sh601995', 'sh600600', 'sh600660', 'sh600875', 'sh600196', 'sh600876', 'sh601633', 'sz000921', 'sz002594', 'sz002202', 'sh601865', 'sh605198', 'sz000338', 'sh600688', 'sh603127', 'sh601088', 'sh601107', 'sz000776', 'sh600958', 'sh688366', 'sh600011', 'sh688385']\n",
    "        self.param = [\"股票名字\",\"今日开盘价\",\"昨日收盘价\",\"当前价格\",\"今日最高价\",\"今日最低价\",\"竞买价买一\",\"竞卖价卖一\",\"股票数(一百)\",\"成交金额(万元)\",\"买一申请股数\",\"买一\",\"买二申请股数\",\"买二\",\"买三申请股数\",\"买三\",\"买四申请股数\",\"买四\",\"买五申请股数\",\"买五\",\"卖一申请股数\",\"卖一\",\"卖二申请股数\",\"卖二\",\"卖三申请股数\",\"卖三\",\"卖四申请股数\",\"卖四\",\"卖五申请股数\",\"卖五\",\"日期\",\"時間\",\"unknown\"]\n",
    "        # Sina股票实时数据接口\n",
    "        self.url = f\"http://hq.sinajs.cn/list={','.join(self.list_sh)+',sh600000'}\"\n",
    "        # PRC market open hour\n",
    "        self.mktStartT      = datetime.datetime(year=self.now.year, month=self.now.month, day=self.now.day, hour=9, minute=14,second=59)\n",
    "        self.mktLunchStartT = datetime.datetime(year=self.now.year, month=self.now.month, day=self.now.day, hour=11, minute=30,second=5)\n",
    "        self.mktLunchEndT   = datetime.datetime(year=self.now.year, month=self.now.month, day=self.now.day, hour=12, minute=59,second=59)\n",
    "        self.mktCloseT      = datetime.datetime(year=self.now.year, month=self.now.month, day=self.now.day, hour=15, minute=0,second=15)\n",
    "    def working_hour(self, time=datetime.datetime.now()):\n",
    "        \"\"\"return True if within working hour of market else False\"\"\"\n",
    "        if (\n",
    "            ((time - self.mktStartT).total_seconds() >= 0 and (time - self.mktLunchStartT).total_seconds() <= 0) or \n",
    "            ((time - self.mktLunchEndT).total_seconds() >= 0 and (time - self.mktCloseT).total_seconds() <= 0)\n",
    "            ): return True\n",
    "        else:\n",
    "            clear_output(wait=True)\n",
    "            print(time)\n",
    "            return False\n",
    "    def touch_csv(self):\n",
    "        filename = f\"./SH_StocksRealtimeData/{str(self.now.year)}_{str(self.now.month)}_{str(self.now.day)}_SH_StocksRealtimeData.csv\"\n",
    "        if os.path.isfile(filename) != True:\n",
    "            df = pd.DataFrame([], columns=self.param)\n",
    "            df.to_csv(filename, encoding='utf-16', index=False)\n",
    "            return filename\n",
    "        else: return filename\n",
    "    def append_df_2_csv(self, df, filename):\n",
    "        df.to_csv(filename, mode='a', encoding=\"utf-16\", header=False, index=False)\n",
    "    def make_request(self, url): # -> response\n",
    "        #if self.working_hour() == True:\n",
    "        response = requests.get(url, \"html.parser\")\n",
    "        print(response)\n",
    "        return response\n",
    "        #else:\n",
    "        #    time.sleep(1)\n",
    "        #    self.make_request(url)         # solved by while loop, could cause recursion memory leak problem, maybe move outside the class is solution.\n",
    "    def make_df(self, response): # -> df\n",
    "        temp_ = [i.replace('\"',\"\").replace(\"=\",\",\") for i in response.text.split(\";\\n\")[:-2]]\n",
    "        results = []\n",
    "        for idx in range(len(temp_)):\n",
    "            temp_row = temp_[idx].split(\",\")[1:-1]\n",
    "            results.append(temp_row)\n",
    "        df = pd.DataFrame(results, columns=self.param)\n",
    "        # Data-preprocessing\n",
    "        col_index = [1,2,3,4,5,6,7,8,9,10,11,12,13,14,15,16,17,18,19,20,21,22,23,24,25,26,27,28,29]\n",
    "        df.iloc[:,col_index] = df.iloc[:,col_index].astype('float64')\n",
    "        perc = [] #timelog = []\n",
    "        for i in range(len(df)):\n",
    "            perc.append(round(((df.iloc[i]['当前价格']-df.iloc[i]['昨日收盘价'])/df.iloc[i]['昨日收盘价'])*100,3))\n",
    "            #timelog.append(datetime.datetime.strptime(df.iloc[i]['日期'] + \" \" + df.iloc[i]['時間'], \"%Y-%m-%d %H:%M:%S\"))\n",
    "        df['漲幅'] = pd.Series(perc)\n",
    "        df['HK_Code'] = pd.Series(self.list_hk)\n",
    "        #df['Time'] = pd.Series(timelog)\n",
    "        return df\n",
    "def main(sleepT:int):\n",
    "    # Initialize Instance > within working hour > request > touch a file > save to csv\n",
    "    data = SH_Realtime()\n",
    "    if data.working_hour(datetime.datetime.now()) == True:\n",
    "        response = data.make_request(data.url)\n",
    "        if response != False:\n",
    "            df = data.make_df(response)\n",
    "            filename = data.touch_csv()\n",
    "            print(filename)\n",
    "            data.append_df_2_csv(df, filename)\n",
    "            return df\n",
    "        else: raise ValueError(\"Error from response\")\n",
    "    else: time.sleep(1)"
   ]
  },
  {
   "cell_type": "code",
   "execution_count": 3,
   "id": "8deec99a",
   "metadata": {
    "collapsed": true
   },
   "outputs": [
    {
     "name": "stdout",
     "output_type": "stream",
     "text": [
      "<Response [200]>\n",
      "./SH_StocksRealtimeData/2021_12_22_SH_StocksRealtimeData.csv\n",
      "升幅no.1: 9.93%\t股票名字: 山东墨龙\t對應港股: 00568.HK\t日期: 2021-12-22 15:00:03\n",
      "\"买一\": 6.31\t\"买一申请股数\": 6086094.0 \t\t\"卖一\": 0.0\t\"卖一申请股数\": 0.0\n",
      "\"买二\": 6.3\t\"买二申请股数\": 15200.0 \t\t\"卖二\": 0.0\t\"卖二申请股数\": 0.0\n",
      "\"买三\": 6.29\t\"买三申请股数\": 1600.0 \t\t\"卖三\": 0.0\t\"卖三申请股数\": 0.0\n",
      "\"买四\": 6.28\t\"买四申请股数\": 5000.0 \t\t\"卖四\": 0.0\t\"卖四申请股数\": 0.0\n",
      "\"买五\": 6.27\t\"买五申请股数\": 1500.0 \t\t\"卖五\": 0.0\t\"卖五申请股数\": 0.0\n",
      "================================================================================\n",
      "升幅no.2: 5.82%\t股票名字: 洛阳玻璃\t對應港股: 01108.HK\t日期: 2021-12-22 15:00:01\n",
      "\"买一\": 34.18\t\"买一申请股数\": 1900.0 \t\t\"卖一\": 34.19\t\"卖一申请股数\": 2300.0\n",
      "\"买二\": 34.17\t\"买二申请股数\": 900.0 \t\t\"卖二\": 34.2\t\"卖二申请股数\": 13300.0\n",
      "\"买三\": 34.16\t\"买三申请股数\": 300.0 \t\t\"卖三\": 34.21\t\"卖三申请股数\": 1300.0\n",
      "\"买四\": 34.15\t\"买四申请股数\": 7800.0 \t\t\"卖四\": 34.22\t\"卖四申请股数\": 1700.0\n",
      "\"买五\": 34.14\t\"买五申请股数\": 23100.0 \t\t\"卖五\": 34.24\t\"卖五申请股数\": 4000.0\n",
      "================================================================================\n",
      "升幅no.3: 5.256%\t股票名字: 复旦微电\t對應港股: 01385.HK\t日期: 2021-12-22 15:29:59\n",
      "\"买一\": 53.06\t\"买一申请股数\": 200.0 \t\t\"卖一\": 53.07\t\"卖一申请股数\": 1297.0\n",
      "\"买二\": 53.05\t\"买二申请股数\": 600.0 \t\t\"卖二\": 53.08\t\"卖二申请股数\": 2600.0\n",
      "\"买三\": 53.03\t\"买三申请股数\": 400.0 \t\t\"卖三\": 53.09\t\"卖三申请股数\": 400.0\n",
      "\"买四\": 53.02\t\"买四申请股数\": 10273.0 \t\t\"卖四\": 53.1\t\"卖四申请股数\": 6350.0\n",
      "\"买五\": 53.0\t\"买五申请股数\": 19116.0 \t\t\"卖五\": 53.11\t\"卖五申请股数\": 6286.0\n",
      "================================================================================\n",
      "升幅no.4: 4.754%\t股票名字: 长飞光纤\t對應港股: 06869.HK\t日期: 2021-12-22 15:00:01\n",
      "\"买一\": 36.35\t\"买一申请股数\": 3300.0 \t\t\"卖一\": 36.36\t\"卖一申请股数\": 698.0\n",
      "\"买二\": 36.33\t\"买二申请股数\": 300.0 \t\t\"卖二\": 36.37\t\"卖二申请股数\": 100.0\n",
      "\"买三\": 36.32\t\"买三申请股数\": 2200.0 \t\t\"卖三\": 36.38\t\"卖三申请股数\": 800.0\n",
      "\"买四\": 36.31\t\"买四申请股数\": 1000.0 \t\t\"卖四\": 36.39\t\"卖四申请股数\": 3800.0\n",
      "\"买五\": 36.3\t\"买五申请股数\": 3800.0 \t\t\"卖五\": 36.4\t\"卖五申请股数\": 5100.0\n",
      "================================================================================\n",
      "升幅no.5: 3.338%\t股票名字: 中煤能源\t對應港股: 01898.HK\t日期: 2021-12-22 15:00:01\n",
      "\"买一\": 7.12\t\"买一申请股数\": 152895.0 \t\t\"卖一\": 7.13\t\"卖一申请股数\": 830300.0\n",
      "\"买二\": 7.11\t\"买二申请股数\": 156506.0 \t\t\"卖二\": 7.14\t\"卖二申请股数\": 624500.0\n",
      "\"买三\": 7.1\t\"买三申请股数\": 309568.0 \t\t\"卖三\": 7.15\t\"卖三申请股数\": 1566600.0\n",
      "\"买四\": 7.09\t\"买四申请股数\": 145100.0 \t\t\"卖四\": 7.16\t\"卖四申请股数\": 194000.0\n",
      "\"买五\": 7.08\t\"买五申请股数\": 206700.0 \t\t\"卖五\": 7.17\t\"卖五申请股数\": 231500.0\n",
      "================================================================================\n"
     ]
    }
   ],
   "source": [
    "if __name__ == \"__main__\":\n",
    "    df = main(1)\n",
    "    df = df.sort_values(by='漲幅', ascending=False)\n",
    "    for i in range(5):\n",
    "        values = df.iloc[i]\n",
    "        print(f\"\"\"升幅no.{i+1}: {values['漲幅']}%\\t股票名字: {values['股票名字']}\\t對應港股: {values['HK_Code']}\\t日期: {values[\"日期\"]} {values[\"時間\"]}\n",
    "\"买一\": {values[\"买一\"]}\\t\"买一申请股数\": {values[\"买一申请股数\"]} \\t\\t\"卖一\": {values[\"卖一\"]}\\t\"卖一申请股数\": {values[\"卖一申请股数\"]}\n",
    "\"买二\": {values[\"买二\"]}\\t\"买二申请股数\": {values[\"买二申请股数\"]} \\t\\t\"卖二\": {values[\"卖二\"]}\\t\"卖二申请股数\": {values[\"卖二申请股数\"]}\n",
    "\"买三\": {values[\"买三\"]}\\t\"买三申请股数\": {values[\"买三申请股数\"]} \\t\\t\"卖三\": {values[\"卖三\"]}\\t\"卖三申请股数\": {values[\"卖三申请股数\"]}\n",
    "\"买四\": {values[\"买四\"]}\\t\"买四申请股数\": {values[\"买四申请股数\"]} \\t\\t\"卖四\": {values[\"卖四\"]}\\t\"卖四申请股数\": {values[\"卖四申请股数\"]}\n",
    "\"买五\": {values[\"买五\"]}\\t\"买五申请股数\": {values[\"买五申请股数\"]} \\t\\t\"卖五\": {values[\"卖五\"]}\\t\"卖五申请股数\": {values[\"卖五申请股数\"]}\n",
    "{\"=\"*80}\"\"\")"
   ]
  },
  {
   "cell_type": "code",
   "execution_count": null,
   "id": "674965d4",
   "metadata": {},
   "outputs": [
    {
     "name": "stdout",
     "output_type": "stream",
     "text": [
      "<Response [200]>\n",
      "./SH_StocksRealtimeData/2021_12_27_SH_StocksRealtimeData.csv\n",
      "升幅no.1:8.05%\t股票名字: 新华制药\t對應港股: 00719.HK\t日期: 2021-12-27 11:30:00\n",
      "\"买一\": 11.13\t\"买一申请股数\": 7000.0 \t\t\"卖一\": 11.14\t\"卖一申请股数\": 15700.0\n",
      "\"买二\": 11.12\t\"买二申请股数\": 11700.0 \t\t\"卖二\": 11.15\t\"卖二申请股数\": 82500.0\n",
      "\"买三\": 11.11\t\"买三申请股数\": 5400.0 \t\t\"卖三\": 11.16\t\"卖三申请股数\": 7600.0\n",
      "\"买四\": 11.1\t\"买四申请股数\": 21800.0 \t\t\"卖四\": 11.17\t\"卖四申请股数\": 7072.0\n",
      "\"买五\": 11.09\t\"买五申请股数\": 1100.0 \t\t\"卖五\": 11.18\t\"卖五申请股数\": 42400.0\n",
      "================================================================================\n",
      "升幅no.2:6.234%\t股票名字: 四川成渝\t對應港股: 00107.HK\t日期: 2021-12-27 11:30:00\n",
      "\"买一\": 4.26\t\"买一申请股数\": 5700.0 \t\t\"卖一\": 4.27\t\"卖一申请股数\": 82532.0\n",
      "\"买二\": 4.25\t\"买二申请股数\": 111500.0 \t\t\"卖二\": 4.28\t\"卖二申请股数\": 194100.0\n",
      "\"买三\": 4.24\t\"买三申请股数\": 65100.0 \t\t\"卖三\": 4.29\t\"卖三申请股数\": 272800.0\n",
      "\"买四\": 4.23\t\"买四申请股数\": 47400.0 \t\t\"卖四\": 4.3\t\"卖四申请股数\": 968300.0\n",
      "\"买五\": 4.22\t\"买五申请股数\": 1026400.0 \t\t\"卖五\": 4.31\t\"卖五申请股数\": 56600.0\n",
      "================================================================================\n",
      "升幅no.3:4.861%\t股票名字: 东方电气\t對應港股: 01072.HK\t日期: 2021-12-27 11:30:00\n",
      "\"买一\": 22.22\t\"买一申请股数\": 27200.0 \t\t\"卖一\": 22.23\t\"卖一申请股数\": 1100.0\n",
      "\"买二\": 22.21\t\"买二申请股数\": 6800.0 \t\t\"卖二\": 22.24\t\"卖二申请股数\": 1400.0\n",
      "\"买三\": 22.2\t\"买三申请股数\": 600.0 \t\t\"卖三\": 22.25\t\"卖三申请股数\": 17800.0\n",
      "\"买四\": 22.19\t\"买四申请股数\": 600.0 \t\t\"卖四\": 22.26\t\"卖四申请股数\": 10900.0\n",
      "\"买五\": 22.18\t\"买五申请股数\": 300.0 \t\t\"卖五\": 22.27\t\"卖五申请股数\": 17200.0\n",
      "================================================================================\n",
      "升幅no.4:4.577%\t股票名字: 新天绿能\t對應港股: 00956.HK\t日期: 2021-12-27 11:30:00\n",
      "\"买一\": 18.28\t\"买一申请股数\": 1500.0 \t\t\"卖一\": 18.29\t\"卖一申请股数\": 11000.0\n",
      "\"买二\": 18.27\t\"买二申请股数\": 7900.0 \t\t\"卖二\": 18.3\t\"卖二申请股数\": 51500.0\n",
      "\"买三\": 18.26\t\"买三申请股数\": 1600.0 \t\t\"卖三\": 18.31\t\"卖三申请股数\": 3100.0\n",
      "\"买四\": 18.25\t\"买四申请股数\": 2700.0 \t\t\"卖四\": 18.32\t\"卖四申请股数\": 11100.0\n",
      "\"买五\": 18.24\t\"买五申请股数\": 8800.0 \t\t\"卖五\": 18.33\t\"卖五申请股数\": 18100.0\n",
      "================================================================================\n",
      "升幅no.5:4.217%\t股票名字: 潍柴动力\t對應港股: 02338.HK\t日期: 2021-12-27 11:30:00\n",
      "\"买一\": 19.02\t\"买一申请股数\": 28100.0 \t\t\"卖一\": 19.03\t\"卖一申请股数\": 214200.0\n",
      "\"买二\": 19.01\t\"买二申请股数\": 101800.0 \t\t\"卖二\": 19.04\t\"卖二申请股数\": 374700.0\n",
      "\"买三\": 19.0\t\"买三申请股数\": 411447.0 \t\t\"卖三\": 19.05\t\"卖三申请股数\": 826900.0\n",
      "\"买四\": 18.99\t\"买四申请股数\": 25800.0 \t\t\"卖四\": 19.06\t\"卖四申请股数\": 407700.0\n",
      "\"买五\": 18.98\t\"买五申请股数\": 18100.0 \t\t\"卖五\": 19.07\t\"卖五申请股数\": 355500.0\n",
      "================================================================================\n"
     ]
    }
   ],
   "source": [
    "sleepT = 1\n",
    "if __name__ == \"__main__\":\n",
    "    while True:\n",
    "        try:\n",
    "            clear_output(wait=True)\n",
    "            df = main(sleepT)\n",
    "            df = df.sort_values(by='漲幅', ascending=False)\n",
    "            for i in range(5):\n",
    "                values = df.iloc[i]\n",
    "                print(f\"\"\"升幅no.{i+1}:{values['漲幅']}%\\t股票名字: {values['股票名字']}\\t對應港股: {values['HK_Code']}\\t日期: {values[\"日期\"]} {values[\"時間\"]}\n",
    "\"买一\": {values[\"买一\"]}\\t\"买一申请股数\": {values[\"买一申请股数\"]} \\t\\t\"卖一\": {values[\"卖一\"]}\\t\"卖一申请股数\": {values[\"卖一申请股数\"]}\n",
    "\"买二\": {values[\"买二\"]}\\t\"买二申请股数\": {values[\"买二申请股数\"]} \\t\\t\"卖二\": {values[\"卖二\"]}\\t\"卖二申请股数\": {values[\"卖二申请股数\"]}\n",
    "\"买三\": {values[\"买三\"]}\\t\"买三申请股数\": {values[\"买三申请股数\"]} \\t\\t\"卖三\": {values[\"卖三\"]}\\t\"卖三申请股数\": {values[\"卖三申请股数\"]}\n",
    "\"买四\": {values[\"买四\"]}\\t\"买四申请股数\": {values[\"买四申请股数\"]} \\t\\t\"卖四\": {values[\"卖四\"]}\\t\"卖四申请股数\": {values[\"卖四申请股数\"]}\n",
    "\"买五\": {values[\"买五\"]}\\t\"买五申请股数\": {values[\"买五申请股数\"]} \\t\\t\"卖五\": {values[\"卖五\"]}\\t\"卖五申请股数\": {values[\"卖五申请股数\"]}\n",
    "{\"=\"*80}\"\"\")\n",
    "            time.sleep(sleepT)\n",
    "        except: pass"
   ]
  },
  {
   "cell_type": "code",
   "execution_count": null,
   "id": "d7c5e7c1",
   "metadata": {},
   "outputs": [],
   "source": []
  },
  {
   "cell_type": "code",
   "execution_count": null,
   "id": "c5e4b633",
   "metadata": {},
   "outputs": [],
   "source": []
  },
  {
   "cell_type": "code",
   "execution_count": null,
   "id": "bf683ee2",
   "metadata": {},
   "outputs": [],
   "source": []
  },
  {
   "cell_type": "code",
   "execution_count": 16,
   "id": "46cc2c01",
   "metadata": {},
   "outputs": [
    {
     "name": "stderr",
     "output_type": "stream",
     "text": [
      "C:\\Users\\user\\anaconda3\\envs\\FTDS\\lib\\site-packages\\pandas\\util\\_decorators.py:311: ParserWarning: Length of header or names does not match length of data. This leads to a loss of data with index_col=False.\n",
      "  return func(*args, **kwargs)\n"
     ]
    }
   ],
   "source": [
    "test_df = pd.read_csv(\"./SH_StocksRealtimeData/2021_12_27_SH_StocksRealtimeData.csv\", encoding='utf-16',index_col=False)"
   ]
  },
  {
   "cell_type": "code",
   "execution_count": 26,
   "id": "5d3410e6",
   "metadata": {},
   "outputs": [
    {
     "data": {
      "text/html": [
       "<div>\n",
       "<style scoped>\n",
       "    .dataframe tbody tr th:only-of-type {\n",
       "        vertical-align: middle;\n",
       "    }\n",
       "\n",
       "    .dataframe tbody tr th {\n",
       "        vertical-align: top;\n",
       "    }\n",
       "\n",
       "    .dataframe thead th {\n",
       "        text-align: right;\n",
       "    }\n",
       "</style>\n",
       "<table border=\"1\" class=\"dataframe\">\n",
       "  <thead>\n",
       "    <tr style=\"text-align: right;\">\n",
       "      <th></th>\n",
       "      <th>股票名字</th>\n",
       "      <th>今日开盘价</th>\n",
       "      <th>昨日收盘价</th>\n",
       "      <th>当前价格</th>\n",
       "      <th>今日最高价</th>\n",
       "      <th>今日最低价</th>\n",
       "      <th>竞买价买一</th>\n",
       "      <th>竞卖价卖一</th>\n",
       "      <th>股票数(一百)</th>\n",
       "      <th>成交金额(万元)</th>\n",
       "      <th>...</th>\n",
       "      <th>卖二</th>\n",
       "      <th>卖三申请股数</th>\n",
       "      <th>卖三</th>\n",
       "      <th>卖四申请股数</th>\n",
       "      <th>卖四</th>\n",
       "      <th>卖五申请股数</th>\n",
       "      <th>卖五</th>\n",
       "      <th>日期</th>\n",
       "      <th>時間</th>\n",
       "      <th>unknown</th>\n",
       "    </tr>\n",
       "  </thead>\n",
       "  <tbody>\n",
       "    <tr>\n",
       "      <th>1019190</th>\n",
       "      <td>庄园牧场</td>\n",
       "      <td>11.51</td>\n",
       "      <td>11.54</td>\n",
       "      <td>11.65</td>\n",
       "      <td>11.66</td>\n",
       "      <td>11.36</td>\n",
       "      <td>11.64</td>\n",
       "      <td>11.65</td>\n",
       "      <td>3298830.0</td>\n",
       "      <td>38042522.6</td>\n",
       "      <td>...</td>\n",
       "      <td>11.66</td>\n",
       "      <td>29100.0</td>\n",
       "      <td>11.67</td>\n",
       "      <td>26100.0</td>\n",
       "      <td>11.68</td>\n",
       "      <td>3200.0</td>\n",
       "      <td>11.69</td>\n",
       "      <td>2021-12-27</td>\n",
       "      <td>11:30:00</td>\n",
       "      <td>NaN</td>\n",
       "    </tr>\n",
       "  </tbody>\n",
       "</table>\n",
       "<p>1 rows × 33 columns</p>\n",
       "</div>"
      ],
      "text/plain": [
       "         股票名字  今日开盘价  昨日收盘价   当前价格  今日最高价  今日最低价  竞买价买一  竞卖价卖一    股票数(一百)  \\\n",
       "1019190  庄园牧场  11.51  11.54  11.65  11.66  11.36  11.64  11.65  3298830.0   \n",
       "\n",
       "           成交金额(万元)  ...     卖二   卖三申请股数     卖三   卖四申请股数     卖四  卖五申请股数  \\\n",
       "1019190  38042522.6  ...  11.66  29100.0  11.67  26100.0  11.68  3200.0   \n",
       "\n",
       "            卖五          日期        時間  unknown  \n",
       "1019190  11.69  2021-12-27  11:30:00      NaN  \n",
       "\n",
       "[1 rows x 33 columns]"
      ]
     },
     "execution_count": 26,
     "metadata": {},
     "output_type": "execute_result"
    }
   ],
   "source": [
    "test_df.loc[test_df['時間']>=\"11:30:00\"][:1]\n",
    "#test_df.iloc[0:2]"
   ]
  },
  {
   "cell_type": "code",
   "execution_count": null,
   "id": "fccbce75",
   "metadata": {},
   "outputs": [],
   "source": []
  },
  {
   "cell_type": "code",
   "execution_count": null,
   "id": "986b0d15",
   "metadata": {},
   "outputs": [],
   "source": []
  },
  {
   "cell_type": "code",
   "execution_count": null,
   "id": "7535c89a",
   "metadata": {},
   "outputs": [],
   "source": []
  },
  {
   "cell_type": "code",
   "execution_count": null,
   "id": "3d5c1ff8",
   "metadata": {},
   "outputs": [],
   "source": []
  },
  {
   "cell_type": "code",
   "execution_count": null,
   "id": "64a10f8f",
   "metadata": {},
   "outputs": [],
   "source": []
  },
  {
   "cell_type": "code",
   "execution_count": null,
   "id": "822c1b08",
   "metadata": {},
   "outputs": [],
   "source": []
  },
  {
   "cell_type": "code",
   "execution_count": null,
   "id": "74064803",
   "metadata": {},
   "outputs": [],
   "source": []
  },
  {
   "cell_type": "code",
   "execution_count": null,
   "id": "02bae4cc",
   "metadata": {},
   "outputs": [],
   "source": []
  },
  {
   "cell_type": "code",
   "execution_count": null,
   "id": "a109fa16",
   "metadata": {},
   "outputs": [],
   "source": []
  },
  {
   "cell_type": "code",
   "execution_count": null,
   "id": "bb76bc91",
   "metadata": {},
   "outputs": [],
   "source": []
  },
  {
   "cell_type": "code",
   "execution_count": null,
   "id": "3f41c094",
   "metadata": {},
   "outputs": [],
   "source": []
  },
  {
   "cell_type": "code",
   "execution_count": null,
   "id": "8b45f0e8",
   "metadata": {},
   "outputs": [],
   "source": []
  },
  {
   "cell_type": "code",
   "execution_count": null,
   "id": "37268ee9",
   "metadata": {},
   "outputs": [],
   "source": []
  },
  {
   "cell_type": "code",
   "execution_count": null,
   "id": "9b85afc0",
   "metadata": {},
   "outputs": [],
   "source": []
  },
  {
   "cell_type": "code",
   "execution_count": null,
   "id": "473a4676",
   "metadata": {},
   "outputs": [],
   "source": []
  },
  {
   "cell_type": "code",
   "execution_count": 74,
   "id": "3ac073c1",
   "metadata": {},
   "outputs": [
    {
     "data": {
      "text/plain": [
       "-3600.0"
      ]
     },
     "execution_count": 74,
     "metadata": {},
     "output_type": "execute_result"
    }
   ],
   "source": [
    "now = datetime.datetime.now()\n",
    "datetime.timedelta()\n",
    "#record = datetime.datetime.strptime(df.iloc[0]['日期'] + \" \" + df.iloc[0]['時間'], \"%Y-%m-%d %H:%M:%S\")\n",
    "record = datetime.datetime(year=now.year, month=now.month, day=now.day, hour=8, minute=15,second=0)\n",
    "test = datetime.datetime(year=now.year, month=now.month, day=now.day, hour=9, minute=15,second=0)\n",
    "xxx = record - test\n",
    "xxx.total_seconds()"
   ]
  },
  {
   "cell_type": "code",
   "execution_count": 50,
   "id": "5e14fbe2",
   "metadata": {},
   "outputs": [
    {
     "ename": "ValueError",
     "evalue": "The truth value of a Series is ambiguous. Use a.empty, a.bool(), a.item(), a.any() or a.all().",
     "output_type": "error",
     "traceback": [
      "\u001b[1;31m---------------------------------------------------------------------------\u001b[0m",
      "\u001b[1;31mValueError\u001b[0m                                Traceback (most recent call last)",
      "\u001b[1;32m~\\AppData\\Local\\Temp/ipykernel_11864/2586987913.py\u001b[0m in \u001b[0;36m<module>\u001b[1;34m\u001b[0m\n\u001b[0;32m      1\u001b[0m \u001b[0myy\u001b[0m \u001b[1;33m=\u001b[0m \u001b[0mpd\u001b[0m\u001b[1;33m.\u001b[0m\u001b[0mSeries\u001b[0m\u001b[1;33m(\u001b[0m\u001b[1;33m[\u001b[0m\u001b[1;36m1\u001b[0m\u001b[1;33m,\u001b[0m\u001b[1;36m1\u001b[0m\u001b[1;33m]\u001b[0m\u001b[1;33m)\u001b[0m\u001b[1;33m\u001b[0m\u001b[1;33m\u001b[0m\u001b[0m\n\u001b[1;32m----> 2\u001b[1;33m \u001b[1;32mif\u001b[0m \u001b[0myy\u001b[0m \u001b[1;33m==\u001b[0m \u001b[1;32mNone\u001b[0m \u001b[1;32mor\u001b[0m \u001b[1;32mnot\u001b[0m \u001b[0myy\u001b[0m\u001b[1;33m.\u001b[0m\u001b[0mempty\u001b[0m \u001b[1;33m:\u001b[0m\u001b[1;33m\u001b[0m\u001b[1;33m\u001b[0m\u001b[0m\n\u001b[0m\u001b[0;32m      3\u001b[0m     \u001b[0mprint\u001b[0m\u001b[1;33m(\u001b[0m\u001b[1;34m\"yy is not none\"\u001b[0m\u001b[1;33m)\u001b[0m\u001b[1;33m\u001b[0m\u001b[1;33m\u001b[0m\u001b[0m\n",
      "\u001b[1;32m~\\anaconda3\\envs\\FTDS\\lib\\site-packages\\pandas\\core\\generic.py\u001b[0m in \u001b[0;36m__nonzero__\u001b[1;34m(self)\u001b[0m\n\u001b[0;32m   1535\u001b[0m     \u001b[1;33m@\u001b[0m\u001b[0mfinal\u001b[0m\u001b[1;33m\u001b[0m\u001b[1;33m\u001b[0m\u001b[0m\n\u001b[0;32m   1536\u001b[0m     \u001b[1;32mdef\u001b[0m \u001b[0m__nonzero__\u001b[0m\u001b[1;33m(\u001b[0m\u001b[0mself\u001b[0m\u001b[1;33m)\u001b[0m\u001b[1;33m:\u001b[0m\u001b[1;33m\u001b[0m\u001b[1;33m\u001b[0m\u001b[0m\n\u001b[1;32m-> 1537\u001b[1;33m         raise ValueError(\n\u001b[0m\u001b[0;32m   1538\u001b[0m             \u001b[1;34mf\"The truth value of a {type(self).__name__} is ambiguous. \"\u001b[0m\u001b[1;33m\u001b[0m\u001b[1;33m\u001b[0m\u001b[0m\n\u001b[0;32m   1539\u001b[0m             \u001b[1;34m\"Use a.empty, a.bool(), a.item(), a.any() or a.all().\"\u001b[0m\u001b[1;33m\u001b[0m\u001b[1;33m\u001b[0m\u001b[0m\n",
      "\u001b[1;31mValueError\u001b[0m: The truth value of a Series is ambiguous. Use a.empty, a.bool(), a.item(), a.any() or a.all()."
     ]
    }
   ],
   "source": [
    "yy = pd.Series([1,1])\n",
    "if yy == None or not yy.empty :\n",
    "    print(\"yy is not none\")"
   ]
  },
  {
   "cell_type": "code",
   "execution_count": 8,
   "id": "70887a73",
   "metadata": {},
   "outputs": [],
   "source": [
    "import Commission_all"
   ]
  },
  {
   "cell_type": "code",
   "execution_count": 10,
   "id": "a852da82",
   "metadata": {},
   "outputs": [
    {
     "data": {
      "text/plain": [
       "0"
      ]
     },
     "execution_count": 10,
     "metadata": {},
     "output_type": "execute_result"
    }
   ],
   "source": [
    "yy = Commission_all.I_Access_Fee()\n",
    "yy.hk_stock_commission"
   ]
  },
  {
   "cell_type": "code",
   "execution_count": null,
   "id": "4274a8b5",
   "metadata": {},
   "outputs": [],
   "source": []
  },
  {
   "cell_type": "code",
   "execution_count": null,
   "id": "85bd642d",
   "metadata": {},
   "outputs": [],
   "source": []
  },
  {
   "cell_type": "markdown",
   "id": "5917d3f5",
   "metadata": {},
   "source": [
    "https://cloud.tencent.com/developer/article/1534790?from=15425"
   ]
  },
  {
   "cell_type": "code",
   "execution_count": null,
   "id": "ecba1609",
   "metadata": {},
   "outputs": [],
   "source": [
    "temp_ = x.text.split(\";\\n\")[:-2]\n",
    "temp_ = [i.replace('\"',\"\").replace(\"=\",\",\") for i in temp_]\n",
    "results = []\n",
    "for idx in range(len(temp_)):\n",
    "    temp_row = temp_[idx].split(\",\")[1:-1]\n",
    "    results.append(temp_row)\n",
    "results"
   ]
  },
  {
   "cell_type": "code",
   "execution_count": null,
   "id": "e1b08d07",
   "metadata": {},
   "outputs": [],
   "source": [
    "len(df)"
   ]
  },
  {
   "cell_type": "code",
   "execution_count": null,
   "id": "581a5164",
   "metadata": {},
   "outputs": [],
   "source": [
    "df = pd.DataFrame(results, columns=param)\n",
    "col_index = [1,2,3,4,5,6,7,8,9,10,11,12,13,14,15,16,17,18,19,20,21,22,23,24,25,26,27,28,29]\n",
    "df.iloc[:,col_index] = df.iloc[:,col_index].astype('float64')\n",
    "#df['漲幅'] = df.apply(lambda x: (x['漲幅']-x['昨日收盘价'])/x['昨日收盘价'])\n",
    "perc = []\n",
    "for i in range(len(df)):\n",
    "    perc.append(round(((df.iloc[i]['当前价格']-df.iloc[i]['昨日收盘价'])/df.iloc[i]['昨日收盘价'])*100,3))\n",
    "df['漲幅'] = pd.Series(perc)\n",
    "df"
   ]
  },
  {
   "cell_type": "code",
   "execution_count": null,
   "id": "38bc405b",
   "metadata": {},
   "outputs": [],
   "source": [
    "results[0]"
   ]
  },
  {
   "cell_type": "code",
   "execution_count": null,
   "id": "758e3c0f",
   "metadata": {},
   "outputs": [],
   "source": [
    "#for idx, i in enumerate(results[0].split(\",\")):\n",
    "#    print(idx, \"=\"*5, i)\n",
    "for idx, i in zip(param, results[0].split(\",\")[1:]):\n",
    "    print(idx, \"=\"*5, i)"
   ]
  },
  {
   "cell_type": "code",
   "execution_count": null,
   "id": "e2d0ea8c",
   "metadata": {},
   "outputs": [],
   "source": []
  },
  {
   "cell_type": "code",
   "execution_count": null,
   "id": "3dfc7ad3",
   "metadata": {},
   "outputs": [],
   "source": [
    "from bs4 import BeautifulSoup as bs\n",
    "from selenium import webdriver\n",
    "from selenium.webdriver.chrome.options import Options"
   ]
  },
  {
   "cell_type": "code",
   "execution_count": null,
   "id": "4ef7d108",
   "metadata": {},
   "outputs": [],
   "source": [
    "URL = \"https://www.yahoo.com.hk\"\n",
    "driver = webdriver.Chrome()\n",
    "driver.get(URL)"
   ]
  },
  {
   "cell_type": "code",
   "execution_count": null,
   "id": "b166b216",
   "metadata": {},
   "outputs": [],
   "source": [
    "html = driver.page_source"
   ]
  },
  {
   "cell_type": "code",
   "execution_count": null,
   "id": "1dfe598b",
   "metadata": {},
   "outputs": [],
   "source": [
    "soup = bs(html, \"html.parser\")"
   ]
  },
  {
   "cell_type": "code",
   "execution_count": null,
   "id": "f78ce367",
   "metadata": {},
   "outputs": [],
   "source": [
    "table_ = soup.find('table', class_=\"tblAHADR\")\n",
    "lists_hk_sh = [i.text for i in table_.find_all('a', class_=\"a14 cls\")]"
   ]
  },
  {
   "cell_type": "code",
   "execution_count": null,
   "id": "489f6077",
   "metadata": {},
   "outputs": [],
   "source": [
    "list_sh = []\n",
    "for i in range(1,len(lists_hk_sh),2):\n",
    "    if \".SH\" in lists_hk_sh[i]:\n",
    "        temp_ = lists_hk_sh[i].replace(\".SH\",\"\")\n",
    "        temp_ = \"sh\" + temp_\n",
    "        list_sh.append(temp_)\n",
    "    elif \".SZ\" in lists_hk_sh[i]:\n",
    "        temp_ = lists_hk_sh[i].replace(\".SZ\",\"\")\n",
    "        temp_ = \"sz\" + temp_\n",
    "        list_sh.append(temp_)\n",
    "    else: print(\"some error?\")\n",
    "list_sh"
   ]
  },
  {
   "cell_type": "code",
   "execution_count": null,
   "id": "7c2a0c4e",
   "metadata": {},
   "outputs": [],
   "source": []
  }
 ],
 "metadata": {
  "kernelspec": {
   "display_name": "FTDS",
   "language": "python",
   "name": "ftds"
  },
  "language_info": {
   "codemirror_mode": {
    "name": "ipython",
    "version": 3
   },
   "file_extension": ".py",
   "mimetype": "text/x-python",
   "name": "python",
   "nbconvert_exporter": "python",
   "pygments_lexer": "ipython3",
   "version": "3.8.3"
  }
 },
 "nbformat": 4,
 "nbformat_minor": 5
}
