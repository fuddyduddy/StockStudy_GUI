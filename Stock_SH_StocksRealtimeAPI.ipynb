{
 "cells": [
  {
   "cell_type": "code",
   "execution_count": 6,
   "id": "4a73bc97",
   "metadata": {},
   "outputs": [],
   "source": [
    "import requests\n",
    "import json\n",
    "import datetime\n",
    "import pandas as pd\n",
    "## 腾讯的实时股票接口\n",
    "#url = \"http://qt.gtimg.cn/r=0.8409869808238q=s_sh601068\"\n",
    "\n",
    "class SH_Realtime:\n",
    "    def __init__(self):\n",
    "        self.list_hk = ['02068.HK', '00187.HK', '06185.HK', '00317.HK', '00568.HK', '06869.HK', '01533.HK', '00991.HK', '02727.HK', '02039.HK', '01898.HK', '01033.HK', '00588.HK', '01065.HK', '00038.HK', '01787.HK', '01618.HK', '09989.HK', '03993.HK', '01138.HK', '00670.HK', '00323.HK', '00347.HK', '01919.HK', '01186.HK', '02899.HK', '00553.HK', '02880.HK', '00811.HK', '01456.HK', '00956.HK', '01053.HK', '06178.HK', '01171.HK', '00874.HK', '00995.HK', '06116.HK', '01330.HK', '02009.HK', '03369.HK', '00390.HK', '01816.HK', '03988.HK', '02600.HK', '02866.HK', '01800.HK', '00358.HK', '03969.HK', '06837.HK', '00177.HK', '00981.HK', '03759.HK', '06196.HK', '01988.HK', '01071.HK', '03618.HK', '00525.HK', '01375.HK', '02607.HK', '00857.HK', '02016.HK', '00998.HK', '02883.HK', '02359.HK', '01812.HK', '00939.HK', '00548.HK', '01398.HK', '03328.HK', '00728.HK', '00914.HK', '00895.HK', '02611.HK', '06818.HK', '01766.HK', '01288.HK', '06198.HK', '06806.HK', '01157.HK', '00042.HK', '00386.HK', '01635.HK', '01963.HK', '01349.HK', '02628.HK', '03866.HK', '01336.HK', '01528.HK', '01055.HK', '03968.HK', '06690.HK', '01339.HK', '02601.HK', '06881.HK', '01658.HK', '00763.HK', '06099.HK', '03898.HK', '00753.HK', '00719.HK', '01877.HK', '06886.HK', '02318.HK', '01057.HK', '02202.HK', '06030.HK', '01772.HK', '03347.HK', '00564.HK', '00598.HK', '02238.HK', '01513.HK', '01839.HK', '06066.HK', '03908.HK', '00168.HK', '03606.HK', '01072.HK', '02196.HK', '01108.HK', '02333.HK', '00921.HK', '01211.HK', '02208.HK', '06865.HK', '02218.HK', '02338.HK', '00338.HK', '06127.HK', '01088.HK', '00107.HK', '01776.HK', '03958.HK', '06826.HK', '00902.HK', '01385.HK']\n",
    "        self.list_sh = ['sh601068', 'sh600860', 'sh688185', 'sh600685', 'sz002490', 'sh601869', 'sz002910', 'sh601991', 'sh601727', 'sz000039', 'sh601898', 'sh600871', 'sh601588', 'sh600874', 'sh601038', 'sh600547', 'sh601618', 'sz002399', 'sh603993', 'sh600026', 'sh600115', 'sh600808', 'sz000898', 'sh601919', 'sh601186', 'sh601899', 'sh600775', 'sh601880', 'sh601811', 'sh601456', 'sh600956', 'sh601005', 'sh601788', 'sh600188', 'sh600332', 'sh600012', 'sh603157', 'sh601330', 'sh601992', 'sh601326', 'sh601390', 'sz003816', 'sh601988', 'sh601600', 'sh601866', 'sh601800', 'sh600362', 'sh688009', 'sh600837', 'sh600377', 'sh688981', 'sz300759', 'sz002936', 'sh600016', 'sh600027', 'sh601077', 'sh601333', 'sh601375', 'sh601607', 'sh601857', 'sh601916', 'sh601998', 'sh601808', 'sh603259', 'sz000488', 'sh601939', 'sh600548', 'sh601398', 'sh601328', 'sh601728', 'sh600585', 'sz002672', 'sh601211', 'sh601818', 'sh601766', 'sh601288', 'sh601298', 'sz000166', 'sz000157', 'sz000585', 'sh600028', 'sh600635', 'sh601963', 'sh688505', 'sh601628', 'sz002948', 'sh601336', 'sh601828', 'sh600029', 'sh600036', 'sh600690', 'sh601319', 'sh601601', 'sh601881', 'sh601658', 'sz000063', 'sh600999', 'sh688187', 'sh601111', 'sz000756', 'sh688180', 'sh601688', 'sh601318', 'sz002703', 'sz000002', 'sh600030', 'sz002460', 'sz300347', 'sh601717', 'sh601598', 'sh601238', 'sz000513', 'sz301039', 'sh601066', 'sh601995', 'sh600600', 'sh600660', 'sh600875', 'sh600196', 'sh600876', 'sh601633', 'sz000921', 'sz002594', 'sz002202', 'sh601865', 'sh605198', 'sz000338', 'sh600688', 'sh603127', 'sh601088', 'sh601107', 'sz000776', 'sh600958', 'sh688366', 'sh600011', 'sh688385']\n",
    "        self.param = [\"股票名字\",\"今日开盘价\",\"昨日收盘价\",\"当前价格\",\"今日最高价\",\"今日最低价\",\"竞买价买一\",\"竞卖价卖一\",\"股票数(一百)\",\"成交金额(万元)\",\"买一申请股数\",\"买一\",\"买二申请股数\",\"买二\",\"买三申请股数\",\"买三\",\"买四申请股数\",\"买四\",\"买五申请股数\",\"买五\",\"卖一申请股数\",\"卖一\",\"卖二申请股数\",\"卖二\",\"卖三申请股数\",\"卖三\",\"卖四申请股数\",\"卖四\",\"卖五申请股数\",\"卖五\",\"日期\",\"時間\",\"unknown\"]\n",
    "        # Sina股票实时数据接口\n",
    "        self.url = f\"http://hq.sinajs.cn/list={','.join(self.list_sh)+',sh600000'}\"\n",
    "    def make_request(self, url): # -> response\n",
    "        x = requests.get(url, \"html.parser\")\n",
    "        print(x)\n",
    "        return x\n",
    "    def make_df(self, x): # -> df\n",
    "        temp_ = [i.replace('\"',\"\").replace(\"=\",\",\") for i in x.text.split(\";\\n\")[:-2]]\n",
    "        results = []\n",
    "        for idx in range(len(temp_)):\n",
    "            temp_row = temp_[idx].split(\",\")[1:-1]\n",
    "            results.append(temp_row)\n",
    "        df = pd.DataFrame(results, columns=self.param)\n",
    "        col_index = [1,2,3,4,5,6,7,8,9,10,11,12,13,14,15,16,17,18,19,20,21,22,23,24,25,26,27,28,29]\n",
    "        df.iloc[:,col_index] = df.iloc[:,col_index].astype('float64')\n",
    "        perc = []\n",
    "        for i in range(len(df)):\n",
    "            perc.append(round(((df.iloc[i]['当前价格']-df.iloc[i]['昨日收盘价'])/df.iloc[i]['昨日收盘价'])*100,3))\n",
    "        df['漲幅'] = pd.Series(perc)\n",
    "        df['HK_Code'] = pd.Series(self.list_hk)\n",
    "        return df\n",
    "def main():\n",
    "    data = SH_Realtime()\n",
    "    response = data.make_request(data.url)\n",
    "    df = data.make_df(response)\n",
    "    return df"
   ]
  },
  {
   "cell_type": "code",
   "execution_count": 7,
   "id": "8deec99a",
   "metadata": {},
   "outputs": [
    {
     "name": "stdout",
     "output_type": "stream",
     "text": [
      "<Response [200]>\n",
      "升幅no.1:\t股票名字: 中铝国际\t對應港股: 02068.HK\t日期: 2021-12-17 15:00:00\n",
      "\"买一\": 7.37\t\"买一申请股数\": 4431499.0 \t\t\"卖一\": 0.0\t\"卖一申请股数\": 0.0\n",
      "\"买二\": 7.36\t\"买二申请股数\": 323100.0 \t\t\"卖二\": 0.0\t\"卖二申请股数\": 0.0\n",
      "\"买三\": 7.35\t\"买三申请股数\": 5700.0 \t\t\"卖三\": 0.0\t\"卖三申请股数\": 0.0\n",
      "\"买四\": 7.34\t\"买四申请股数\": 2600.0 \t\t\"卖四\": 0.0\t\"卖四申请股数\": 0.0\n",
      "\"买五\": 7.33\t\"买五申请股数\": 2400.0 \t\t\"卖五\": 0.0\t\"卖五申请股数\": 0.0\n",
      "================================================================================\n",
      "升幅no.2:\t股票名字: 京城股份\t對應港股: 00187.HK\t日期: 2021-12-17 15:00:00\n",
      "\"买一\": 23.8\t\"买一申请股数\": 4781888.0 \t\t\"卖一\": 0.0\t\"卖一申请股数\": 0.0\n",
      "\"买二\": 23.79\t\"买二申请股数\": 156400.0 \t\t\"卖二\": 0.0\t\"卖二申请股数\": 0.0\n",
      "\"买三\": 23.78\t\"买三申请股数\": 24700.0 \t\t\"卖三\": 0.0\t\"卖三申请股数\": 0.0\n",
      "\"买四\": 23.77\t\"买四申请股数\": 14200.0 \t\t\"卖四\": 0.0\t\"卖四申请股数\": 0.0\n",
      "\"买五\": 23.76\t\"买五申请股数\": 84700.0 \t\t\"卖五\": 0.0\t\"卖五申请股数\": 0.0\n",
      "================================================================================\n",
      "升幅no.3:\t股票名字: 康希诺\t對應港股: 06185.HK\t日期: 2021-12-17 15:29:59\n",
      "\"买一\": 318.81\t\"买一申请股数\": 720.0 \t\t\"卖一\": 318.86\t\"卖一申请股数\": 200.0\n",
      "\"买二\": 318.8\t\"买二申请股数\": 8026.0 \t\t\"卖二\": 318.9\t\"卖二申请股数\": 500.0\n",
      "\"买三\": 318.72\t\"买三申请股数\": 400.0 \t\t\"卖三\": 318.92\t\"卖三申请股数\": 450.0\n",
      "\"买四\": 318.71\t\"买四申请股数\": 1976.0 \t\t\"卖四\": 318.97\t\"卖四申请股数\": 200.0\n",
      "\"买五\": 318.7\t\"买五申请股数\": 1000.0 \t\t\"卖五\": 318.98\t\"卖五申请股数\": 500.0\n",
      "================================================================================\n",
      "升幅no.4:\t股票名字: 中船防务\t對應港股: 00317.HK\t日期: 2021-12-17 15:00:00\n",
      "\"买一\": 23.39\t\"买一申请股数\": 1500.0 \t\t\"卖一\": 23.4\t\"卖一申请股数\": 16400.0\n",
      "\"买二\": 23.38\t\"买二申请股数\": 11800.0 \t\t\"卖二\": 23.41\t\"卖二申请股数\": 20800.0\n",
      "\"买三\": 23.37\t\"买三申请股数\": 2300.0 \t\t\"卖三\": 23.42\t\"卖三申请股数\": 37600.0\n",
      "\"买四\": 23.36\t\"买四申请股数\": 11600.0 \t\t\"卖四\": 23.43\t\"卖四申请股数\": 61300.0\n",
      "\"买五\": 23.35\t\"买五申请股数\": 900.0 \t\t\"卖五\": 23.44\t\"卖五申请股数\": 106144.0\n",
      "================================================================================\n",
      "升幅no.5:\t股票名字: 山东墨龙\t對應港股: 00568.HK\t日期: 2021-12-17 15:00:03\n",
      "\"买一\": 5.78\t\"买一申请股数\": 66600.0 \t\t\"卖一\": 5.79\t\"卖一申请股数\": 123800.0\n",
      "\"买二\": 5.77\t\"买二申请股数\": 139100.0 \t\t\"卖二\": 5.8\t\"卖二申请股数\": 455900.0\n",
      "\"买三\": 5.76\t\"买三申请股数\": 183300.0 \t\t\"卖三\": 5.81\t\"卖三申请股数\": 69400.0\n",
      "\"买四\": 5.75\t\"买四申请股数\": 80600.0 \t\t\"卖四\": 5.82\t\"卖四申请股数\": 151900.0\n",
      "\"买五\": 5.74\t\"买五申请股数\": 44500.0 \t\t\"卖五\": 5.83\t\"卖五申请股数\": 17200.0\n",
      "================================================================================\n"
     ]
    }
   ],
   "source": [
    "if __name__ == \"__main__\":\n",
    "    df = main()\n",
    "    df = df.sort_values(by='漲幅', ascending=False)\n",
    "    for i in range(5):\n",
    "        values = df.iloc[i]\n",
    "        print(f\"\"\"升幅no.{i+1}:\\t股票名字: {values['股票名字']}\\t對應港股: {values['HK_Code']}\\t日期: {values[\"日期\"]} {values[\"時間\"]}\n",
    "\"买一\": {values[\"买一\"]}\\t\"买一申请股数\": {values[\"买一申请股数\"]} \\t\\t\"卖一\": {values[\"卖一\"]}\\t\"卖一申请股数\": {values[\"卖一申请股数\"]}\n",
    "\"买二\": {values[\"买二\"]}\\t\"买二申请股数\": {values[\"买二申请股数\"]} \\t\\t\"卖二\": {values[\"卖二\"]}\\t\"卖二申请股数\": {values[\"卖二申请股数\"]}\n",
    "\"买三\": {values[\"买三\"]}\\t\"买三申请股数\": {values[\"买三申请股数\"]} \\t\\t\"卖三\": {values[\"卖三\"]}\\t\"卖三申请股数\": {values[\"卖三申请股数\"]}\n",
    "\"买四\": {values[\"买四\"]}\\t\"买四申请股数\": {values[\"买四申请股数\"]} \\t\\t\"卖四\": {values[\"卖四\"]}\\t\"卖四申请股数\": {values[\"卖四申请股数\"]}\n",
    "\"买五\": {values[\"买五\"]}\\t\"买五申请股数\": {values[\"买五申请股数\"]} \\t\\t\"卖五\": {values[\"卖五\"]}\\t\"卖五申请股数\": {values[\"卖五申请股数\"]}\n",
    "{\"=\"*80}\"\"\")"
   ]
  },
  {
   "cell_type": "code",
   "execution_count": null,
   "id": "674965d4",
   "metadata": {},
   "outputs": [],
   "source": []
  },
  {
   "cell_type": "code",
   "execution_count": null,
   "id": "44b5f536",
   "metadata": {},
   "outputs": [],
   "source": []
  },
  {
   "cell_type": "code",
   "execution_count": null,
   "id": "dc535e28",
   "metadata": {},
   "outputs": [],
   "source": []
  },
  {
   "cell_type": "code",
   "execution_count": null,
   "id": "0ac15d1b",
   "metadata": {},
   "outputs": [],
   "source": []
  },
  {
   "cell_type": "code",
   "execution_count": null,
   "id": "d95345be",
   "metadata": {},
   "outputs": [],
   "source": []
  },
  {
   "cell_type": "code",
   "execution_count": null,
   "id": "4274a8b5",
   "metadata": {},
   "outputs": [],
   "source": []
  },
  {
   "cell_type": "code",
   "execution_count": null,
   "id": "85bd642d",
   "metadata": {},
   "outputs": [],
   "source": []
  },
  {
   "cell_type": "markdown",
   "id": "5917d3f5",
   "metadata": {},
   "source": [
    "https://cloud.tencent.com/developer/article/1534790?from=15425"
   ]
  },
  {
   "cell_type": "code",
   "execution_count": null,
   "id": "167beb46",
   "metadata": {},
   "outputs": [],
   "source": [
    "temp_ = x.text.split(\";\\n\")[:-2]\n",
    "temp_ = [i.replace('\"',\"\").replace(\"=\",\",\") for i in temp_]\n",
    "results = []\n",
    "for idx in range(len(temp_)):\n",
    "    temp_row = temp_[idx].split(\",\")[1:-1]\n",
    "    results.append(temp_row)\n",
    "results"
   ]
  },
  {
   "cell_type": "code",
   "execution_count": null,
   "id": "93e279f3",
   "metadata": {},
   "outputs": [],
   "source": [
    "len(df)"
   ]
  },
  {
   "cell_type": "code",
   "execution_count": null,
   "id": "456eb18c",
   "metadata": {},
   "outputs": [],
   "source": [
    "df = pd.DataFrame(results, columns=param)\n",
    "col_index = [1,2,3,4,5,6,7,8,9,10,11,12,13,14,15,16,17,18,19,20,21,22,23,24,25,26,27,28,29]\n",
    "df.iloc[:,col_index] = df.iloc[:,col_index].astype('float64')\n",
    "#df['漲幅'] = df.apply(lambda x: (x['漲幅']-x['昨日收盘价'])/x['昨日收盘价'])\n",
    "perc = []\n",
    "for i in range(len(df)):\n",
    "    perc.append(round(((df.iloc[i]['当前价格']-df.iloc[i]['昨日收盘价'])/df.iloc[i]['昨日收盘价'])*100,3))\n",
    "df['漲幅'] = pd.Series(perc)\n",
    "df"
   ]
  },
  {
   "cell_type": "code",
   "execution_count": null,
   "id": "51e06ed9",
   "metadata": {},
   "outputs": [],
   "source": [
    "results[0]"
   ]
  },
  {
   "cell_type": "code",
   "execution_count": null,
   "id": "8d20bbcd",
   "metadata": {},
   "outputs": [],
   "source": [
    "#for idx, i in enumerate(results[0].split(\",\")):\n",
    "#    print(idx, \"=\"*5, i)\n",
    "for idx, i in zip(param, results[0].split(\",\")[1:]):\n",
    "    print(idx, \"=\"*5, i)"
   ]
  },
  {
   "cell_type": "code",
   "execution_count": null,
   "id": "1ff4e21e",
   "metadata": {},
   "outputs": [],
   "source": []
  },
  {
   "cell_type": "code",
   "execution_count": null,
   "id": "fda24c4c",
   "metadata": {},
   "outputs": [],
   "source": [
    "from bs4 import BeautifulSoup as bs\n",
    "from selenium import webdriver\n",
    "from selenium.webdriver.chrome.options import Options"
   ]
  },
  {
   "cell_type": "code",
   "execution_count": null,
   "id": "d17089dd",
   "metadata": {},
   "outputs": [],
   "source": [
    "URL = \"https://www.yahoo.com.hk\"\n",
    "driver = webdriver.Chrome()\n",
    "driver.get(URL)"
   ]
  },
  {
   "cell_type": "code",
   "execution_count": null,
   "id": "175d30ab",
   "metadata": {},
   "outputs": [],
   "source": [
    "html = driver.page_source"
   ]
  },
  {
   "cell_type": "code",
   "execution_count": null,
   "id": "dd3f6eaa",
   "metadata": {},
   "outputs": [],
   "source": [
    "soup = bs(html, \"html.parser\")"
   ]
  },
  {
   "cell_type": "code",
   "execution_count": null,
   "id": "6d0470f1",
   "metadata": {},
   "outputs": [],
   "source": [
    "table_ = soup.find('table', class_=\"tblAHADR\")\n",
    "lists_hk_sh = [i.text for i in table_.find_all('a', class_=\"a14 cls\")]"
   ]
  },
  {
   "cell_type": "code",
   "execution_count": null,
   "id": "8d68d6cc",
   "metadata": {},
   "outputs": [],
   "source": [
    "list_sh = []\n",
    "for i in range(1,len(lists_hk_sh),2):\n",
    "    if \".SH\" in lists_hk_sh[i]:\n",
    "        temp_ = lists_hk_sh[i].replace(\".SH\",\"\")\n",
    "        temp_ = \"sh\" + temp_\n",
    "        list_sh.append(temp_)\n",
    "    elif \".SZ\" in lists_hk_sh[i]:\n",
    "        temp_ = lists_hk_sh[i].replace(\".SZ\",\"\")\n",
    "        temp_ = \"sz\" + temp_\n",
    "        list_sh.append(temp_)\n",
    "    else: print(\"some error?\")\n",
    "list_sh"
   ]
  },
  {
   "cell_type": "code",
   "execution_count": null,
   "id": "6680438c",
   "metadata": {},
   "outputs": [],
   "source": []
  }
 ],
 "metadata": {
  "kernelspec": {
   "display_name": "FTDS",
   "language": "python",
   "name": "ftds"
  },
  "language_info": {
   "codemirror_mode": {
    "name": "ipython",
    "version": 3
   },
   "file_extension": ".py",
   "mimetype": "text/x-python",
   "name": "python",
   "nbconvert_exporter": "python",
   "pygments_lexer": "ipython3",
   "version": "3.8.3"
  }
 },
 "nbformat": 4,
 "nbformat_minor": 5
}
